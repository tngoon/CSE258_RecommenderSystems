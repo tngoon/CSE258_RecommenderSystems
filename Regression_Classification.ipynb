{
 "cells": [
  {
   "cell_type": "markdown",
   "metadata": {},
   "source": [
    "# Regression"
   ]
  },
  {
   "cell_type": "markdown",
   "metadata": {},
   "source": [
    "Regression is a supervised learning approach to learn relationships between input variables (features) and output variables (predictions). Linear regression assumes a linear relationship between the input and output."
   ]
  },
  {
   "cell_type": "code",
   "execution_count": 1,
   "metadata": {
    "collapsed": true
   },
   "outputs": [],
   "source": [
    "import numpy\n",
    "import urllib\n",
    "import scipy.optimize\n",
    "import random"
   ]
  },
  {
   "cell_type": "code",
   "execution_count": 2,
   "metadata": {
    "collapsed": false
   },
   "outputs": [
    {
     "name": "stdout",
     "output_type": "stream",
     "text": [
      "Reading data...\n",
      "done\n"
     ]
    }
   ],
   "source": [
    "def parseData(fname):\n",
    "    for l in urllib.urlopen(fname):\n",
    "        yield eval(l)\n",
    "        \n",
    "print \"Reading data...\"\n",
    "data = list(parseData(\"http://jmcauley.ucsd.edu/cse190/data/beer/beer_50000.json\"))\n",
    "print \"done\""
   ]
  },
  {
   "cell_type": "code",
   "execution_count": 3,
   "metadata": {
    "collapsed": true
   },
   "outputs": [],
   "source": [
    "def feature(datum):\n",
    "    feat = [1]\n",
    "    return feat"
   ]
  },
  {
   "cell_type": "code",
   "execution_count": 14,
   "metadata": {
    "collapsed": false
   },
   "outputs": [
    {
     "data": {
      "text/plain": [
       "array([ 0.25174844,  0.25216431,  0.27291408,  0.26818744,  0.24841416,\n",
       "        0.2517862 ,  0.25883404,  0.25346594,  0.26557414,  0.24192878,\n",
       "        0.26610597,  0.27918916,  0.23963083,  0.25797481,  0.248378  ,\n",
       "        0.25866218,  0.24163026,  0.2556268 ,  0.27546199,  0.264729  ,\n",
       "        0.26308102,  0.248561  ,  0.27903837,  0.26279994,  0.25045232,\n",
       "        0.23580934,  0.26433007,  0.24609005,  0.2422007 ,  0.24365902])"
      ]
     },
     "execution_count": 14,
     "metadata": {},
     "output_type": "execute_result"
    }
   ],
   "source": [
    "X = [feature(d) for d in data]\n",
    "y = [d['review/overall'] for d in data]\n",
    "theta,residuals,rank,s = numpy.linalg.lstsq(X,y) \n",
    "theta"
   ]
  },
  {
   "cell_type": "code",
   "execution_count": 6,
   "metadata": {
    "collapsed": false
   },
   "outputs": [
    {
     "data": {
      "text/plain": [
       "matrix([[ 3.88871]])"
      ]
     },
     "execution_count": 6,
     "metadata": {},
     "output_type": "execute_result"
    }
   ],
   "source": [
    "X = numpy.matrix(X)\n",
    "y = numpy.matrix(y)\n",
    "numpy.linalg.inv(X.T * X) * X.T * y.T"
   ]
  },
  {
   "cell_type": "code",
   "execution_count": 11,
   "metadata": {
    "collapsed": false
   },
   "outputs": [
    {
     "data": {
      "text/plain": [
       "array([  4.03141470e+00,  -1.02488687e-10])"
      ]
     },
     "execution_count": 11,
     "metadata": {},
     "output_type": "execute_result"
    }
   ],
   "source": [
    "#do older people rate beer more highly?\n",
    "data2 = [d for d in data if d.has_key('user/ageInSeconds')]\n",
    "\n",
    "def feature(datum):\n",
    "    feat = [1]\n",
    "    feat.append(datum['user/ageInSeconds'])\n",
    "    return feat\n",
    "\n",
    "X = [feature(d) for d in data2]\n",
    "y = [d['review/overall'] for d in data2]\n",
    "theta, residuals, rank, s = numpy.linalg.lstsq(X,y)\n",
    "theta"
   ]
  },
  {
   "cell_type": "code",
   "execution_count": 12,
   "metadata": {
    "collapsed": false
   },
   "outputs": [
    {
     "data": {
      "text/plain": [
       "array([ 3.90340881,  0.10146132])"
      ]
     },
     "execution_count": 12,
     "metadata": {},
     "output_type": "execute_result"
    }
   ],
   "source": [
    "#how much do women prefer beer over men?\n",
    "data2 = [d for d in data if d.has_key('user/gender')]\n",
    "\n",
    "def feature(datum):\n",
    "    feat=[1]\n",
    "    if datum['user/gender']==\"Male\":\n",
    "        feat.append(0)\n",
    "    else:\n",
    "        feat.append(1)\n",
    "    return feat\n",
    "\n",
    "X = [feature(d) for d in data2]\n",
    "y = [d['review/overall'] for d in data2]\n",
    "theta, residuals, rank, s = numpy.linalg.lstsq(X,y)\n",
    "theta"
   ]
  },
  {
   "cell_type": "markdown",
   "metadata": {},
   "source": [
    "# Gradient Descent"
   ]
  },
  {
   "cell_type": "markdown",
   "metadata": {},
   "source": [
    "Gradient descent is an optimization algorithm to the find the mininum of a function. It takes steps proportional to the negative gradient fo teh function at the current point. "
   ]
  },
  {
   "cell_type": "code",
   "execution_count": 13,
   "metadata": {
    "collapsed": false
   },
   "outputs": [
    {
     "name": "stdout",
     "output_type": "stream",
     "text": [
      "offset =  [[15.730542077145518]]\n",
      "gradient =  [-7.8098809  -0.12091359]\n",
      "offset =  [[9.019956530887722]]\n",
      "gradient =  [-4.60979697 -0.07168187]\n",
      "offset =  [[3.2211982157209067]]\n",
      "gradient =  [  7.26645335e-06  -4.69344637e-04]\n",
      "offset =  [[3.2211980430336453]]\n",
      "gradient =  [  4.52221640e-06  -2.89005365e-04]\n",
      "offset =  [[3.2211978714448324]]\n",
      "gradient =  [ -5.44453371e-13  -1.04083409e-16]\n"
     ]
    }
   ],
   "source": [
    "#objective\n",
    "def f(theta, X, y, lam):\n",
    "    theta = numpy.matrix(theta).T\n",
    "    X = numpy.matrix(X)\n",
    "    y = numpy.matrix(y).T\n",
    "    diff= X*theta - y\n",
    "    diffSq = diff.T*diff\n",
    "    diffSqReg = diffSq/len(X) + lam*(theta.T*theta)\n",
    "    print \"offset = \", diffSqReg.flatten().tolist()\n",
    "    return diffSqReg.flatten().tolist()[0]\n",
    "\n",
    "#derivative\n",
    "def fprime(theta, X, y, lam):\n",
    "    theta = numpy.matrix(theta).T\n",
    "    X = numpy.matrix(X)\n",
    "    y = numpy.matrix(y).T\n",
    "    diff = X*theta - y\n",
    "    res = 2*X.T*diff/len(X) + 12*lam*theta\n",
    "    print \"gradient = \", numpy.array(res.flatten().tolist()[0])\n",
    "    return numpy.array(res.flatten().tolist()[0])\n",
    "\n",
    "scipy.optimize.fmin_l_bfgs_b(f, [0,0], fprime, args = (X,y,0.1))\n",
    "\n",
    "#random features\n",
    "def feature(datum):\n",
    "    return [random.random() for x in range(30)]\n",
    "\n",
    "X = [feature(d) for d in data2]\n",
    "y = [d['review/overall'] for d in data2]\n",
    "theta, residuals, rank, s = numpy.linalg.lstsq(X,y)"
   ]
  }
 ],
 "metadata": {
  "kernelspec": {
   "display_name": "Python 2",
   "language": "python",
   "name": "python2"
  },
  "language_info": {
   "codemirror_mode": {
    "name": "ipython",
    "version": 2
   },
   "file_extension": ".py",
   "mimetype": "text/x-python",
   "name": "python",
   "nbconvert_exporter": "python",
   "pygments_lexer": "ipython2",
   "version": "2.7.13"
  }
 },
 "nbformat": 4,
 "nbformat_minor": 2
}
